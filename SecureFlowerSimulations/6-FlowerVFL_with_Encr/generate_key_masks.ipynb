{
 "cells": [
  {
   "cell_type": "code",
   "execution_count": 1,
   "id": "254ab9bd",
   "metadata": {},
   "outputs": [],
   "source": [
    "import numpy as np\n",
    "import pandas as pd"
   ]
  },
  {
   "cell_type": "code",
   "execution_count": 2,
   "id": "0e2f4c45",
   "metadata": {},
   "outputs": [],
   "source": [
    "# Set the size for the masks\n",
    "mask_size = (5, 245057)\n",
    "\n",
    "# Generate three random masks with values between -5 and 5\n",
    "masks = np.random.uniform(-5, 5, size=(3, *mask_size))\n",
    "\n",
    "# Ensure the sum of the masks is zero by adjusting them\n",
    "mask_sum = np.sum(masks, axis=0)\n",
    "masks -= mask_sum / 3\n",
    "\n",
    "# Assign each mask to separate variables\n",
    "mask_1, mask_2, mask_3 = masks\n",
    "\n",
    "# Save the masks to CSV files\n",
    "mask_1_df = pd.DataFrame(mask_1)\n",
    "mask_2_df = pd.DataFrame(mask_2)\n",
    "mask_3_df = pd.DataFrame(mask_3)\n",
    "\n",
    "\n",
    "folder = \"skin\"\n",
    "\n",
    "mask_1_df.to_csv(f'masks/{folder}/mask_client_V.csv', index=False)\n",
    "mask_2_df.to_csv(f'masks/{folder}/mask_client_H_1.csv', index=False)\n",
    "mask_3_df.to_csv(f'masks/{folder}/mask_client_H_2.csv', index=False)"
   ]
  },
  {
   "cell_type": "code",
   "execution_count": null,
   "id": "983f05b2",
   "metadata": {},
   "outputs": [],
   "source": [
    "from Crypto.Random import get_random_bytes"
   ]
  },
  {
   "cell_type": "code",
   "execution_count": 5,
   "id": "dd51ae1c",
   "metadata": {},
   "outputs": [],
   "source": [
    "# Encryption key\n",
    "key = get_random_bytes(32)  # AES-256\n",
    "\n",
    "with open(\"aes_key.bin\", \"wb\") as key_file:\n",
    "    key_file.write(key)"
   ]
  },
  {
   "cell_type": "code",
   "execution_count": null,
   "id": "aa97c869",
   "metadata": {},
   "outputs": [],
   "source": []
  }
 ],
 "metadata": {
  "kernelspec": {
   "display_name": "Python 3",
   "language": "python",
   "name": "python3"
  },
  "language_info": {
   "codemirror_mode": {
    "name": "ipython",
    "version": 3
   },
   "file_extension": ".py",
   "mimetype": "text/x-python",
   "name": "python",
   "nbconvert_exporter": "python",
   "pygments_lexer": "ipython3",
   "version": "3.12.5"
  }
 },
 "nbformat": 4,
 "nbformat_minor": 5
}
