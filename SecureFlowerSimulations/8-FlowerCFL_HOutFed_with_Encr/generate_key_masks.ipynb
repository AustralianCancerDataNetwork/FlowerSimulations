{
 "cells": [
  {
   "cell_type": "code",
   "execution_count": 8,
   "id": "254ab9bd",
   "metadata": {},
   "outputs": [],
   "source": [
    "import numpy as np\n",
    "import pandas as pd"
   ]
  },
  {
   "cell_type": "code",
   "execution_count": 9,
   "id": "300b2b63",
   "metadata": {},
   "outputs": [],
   "source": [
    "nx = np.array([2, 5, 5, 1])\n",
    "\n",
    "# Set the size for the masks\n",
    "W1 = (nx[1], nx[0])\n",
    "W2 = (nx[2], nx[1])\n",
    "\n",
    "b2 = (nx[2], 1)\n",
    "\n",
    "W3 = (nx[2], 1)\n",
    "\n",
    "b3 = (nx[2], 1)\n",
    "\n",
    "folder = \"skin\""
   ]
  },
  {
   "cell_type": "code",
   "execution_count": 10,
   "id": "cf13f2f9",
   "metadata": {},
   "outputs": [],
   "source": [
    "# Generate three random masks with values between -5 and 5\n",
    "masks = np.random.uniform(-5, 5, size=(2, *W1))\n",
    "\n",
    "# Ensure the sum of the masks is zero by adjusting them\n",
    "mask_sum = np.sum(masks, axis=0)\n",
    "masks -= mask_sum / 2\n",
    "\n",
    "# Assign each mask to separate variables\n",
    "mask_1, mask_2 = masks\n",
    "\n",
    "# Save the masks to CSV files\n",
    "mask_1_df = pd.DataFrame(mask_1)\n",
    "mask_2_df = pd.DataFrame(mask_2)\n",
    "\n",
    "mask_1_df.to_csv(f'masks/{folder}/mask_client_H_1_W1.csv', index=False)\n",
    "mask_2_df.to_csv(f'masks/{folder}/mask_client_H_2_W1.csv', index=False)"
   ]
  },
  {
   "cell_type": "code",
   "execution_count": 11,
   "id": "adb3b57b",
   "metadata": {},
   "outputs": [],
   "source": [
    "# Generate three random masks with values between -5 and 5\n",
    "masks = np.random.uniform(-5, 5, size=(2, *W2))\n",
    "\n",
    "# Ensure the sum of the masks is zero by adjusting them\n",
    "mask_sum = np.sum(masks, axis=0)\n",
    "masks -= mask_sum / 2\n",
    "\n",
    "# Assign each mask to separate variables\n",
    "mask_1, mask_2 = masks\n",
    "\n",
    "# Save the masks to CSV files\n",
    "mask_1_df = pd.DataFrame(mask_1)\n",
    "mask_2_df = pd.DataFrame(mask_2)\n",
    "\n",
    "mask_1_df.to_csv(f'masks/{folder}/mask_client_H_1_W2.csv', index=False)\n",
    "mask_2_df.to_csv(f'masks/{folder}/mask_client_H_2_W2.csv', index=False)"
   ]
  },
  {
   "cell_type": "code",
   "execution_count": 12,
   "id": "a728df8b",
   "metadata": {},
   "outputs": [],
   "source": [
    "# Generate three random masks with values between -5 and 5\n",
    "masks = np.random.uniform(-5, 5, size=(2, *b2))\n",
    "\n",
    "# Ensure the sum of the masks is zero by adjusting them\n",
    "mask_sum = np.sum(masks, axis=0)\n",
    "masks -= mask_sum / 2\n",
    "\n",
    "# Assign each mask to separate variables\n",
    "mask_1, mask_2 = masks\n",
    "\n",
    "# Save the masks to CSV files\n",
    "mask_1_df = pd.DataFrame(mask_1)\n",
    "mask_2_df = pd.DataFrame(mask_2)\n",
    "\n",
    "mask_1_df.to_csv(f'masks/{folder}/mask_client_H_1_b2.csv', index=False)\n",
    "mask_2_df.to_csv(f'masks/{folder}/mask_client_H_2_b2.csv', index=False)"
   ]
  },
  {
   "cell_type": "code",
   "execution_count": 13,
   "id": "b86e6b94",
   "metadata": {},
   "outputs": [],
   "source": [
    "# Generate three random masks with values between -5 and 5\n",
    "masks = np.random.uniform(-5, 5, size=(2, *W3))\n",
    "\n",
    "# Ensure the sum of the masks is zero by adjusting them\n",
    "mask_sum = np.sum(masks, axis=0)\n",
    "masks -= mask_sum / 2\n",
    "\n",
    "# Assign each mask to separate variables\n",
    "mask_1, mask_2 = masks\n",
    "\n",
    "# Save the masks to CSV files\n",
    "mask_1_df = pd.DataFrame(mask_1)\n",
    "mask_2_df = pd.DataFrame(mask_2)\n",
    "\n",
    "mask_1_df.to_csv(f'masks/{folder}/mask_client_H_1_W3.csv', index=False)\n",
    "mask_2_df.to_csv(f'masks/{folder}/mask_client_H_2_W3.csv', index=False)"
   ]
  },
  {
   "cell_type": "code",
   "execution_count": 14,
   "id": "2d25690d",
   "metadata": {},
   "outputs": [],
   "source": [
    "# Generate three random masks with values between -5 and 5\n",
    "masks = np.random.uniform(-5, 5, size=(2, *b3))\n",
    "\n",
    "# Ensure the sum of the masks is zero by adjusting them\n",
    "mask_sum = np.sum(masks, axis=0)\n",
    "masks -= mask_sum / 2\n",
    "\n",
    "# Assign each mask to separate variables\n",
    "mask_1, mask_2 = masks\n",
    "\n",
    "# Save the masks to CSV files\n",
    "mask_1_df = pd.DataFrame(mask_1)\n",
    "mask_2_df = pd.DataFrame(mask_2)\n",
    "\n",
    "mask_1_df.to_csv(f'masks/{folder}/mask_client_H_1_b3.csv', index=False)\n",
    "mask_2_df.to_csv(f'masks/{folder}/mask_client_H_2_b3.csv', index=False)"
   ]
  },
  {
   "cell_type": "code",
   "execution_count": 5,
   "id": "983f05b2",
   "metadata": {},
   "outputs": [],
   "source": [
    "from Crypto.Random import get_random_bytes"
   ]
  },
  {
   "cell_type": "code",
   "execution_count": 6,
   "id": "dd51ae1c",
   "metadata": {},
   "outputs": [],
   "source": [
    "# Encryption key\n",
    "key = get_random_bytes(32)  # AES-256\n",
    "\n",
    "with open(\"aes_key.bin\", \"wb\") as key_file:\n",
    "    key_file.write(key)"
   ]
  },
  {
   "cell_type": "code",
   "execution_count": null,
   "id": "aa97c869",
   "metadata": {},
   "outputs": [],
   "source": []
  }
 ],
 "metadata": {
  "kernelspec": {
   "display_name": "Python 3",
   "language": "python",
   "name": "python3"
  },
  "language_info": {
   "codemirror_mode": {
    "name": "ipython",
    "version": 3
   },
   "file_extension": ".py",
   "mimetype": "text/x-python",
   "name": "python",
   "nbconvert_exporter": "python",
   "pygments_lexer": "ipython3",
   "version": "3.12.5"
  }
 },
 "nbformat": 4,
 "nbformat_minor": 5
}
